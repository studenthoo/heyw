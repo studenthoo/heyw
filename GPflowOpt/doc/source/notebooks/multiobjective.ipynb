{
 "cells": [
  {
   "cell_type": "markdown",
   "metadata": {},
   "source": [
    "# Bayesian Multiobjective Optimization\n",
    "*Joachim van der Herten, Ivo Couckuyt*"
   ]
  },
  {
   "cell_type": "markdown",
   "metadata": {},
   "source": [
    "## Introduction\n",
    "\n",
    "This notebook demonstrates the multiobjective optimization of an analytical function using the hypervolume-based probability of improvement function."
   ]
  },
  {
   "cell_type": "code",
   "execution_count": 1,
   "metadata": {},
   "outputs": [],
   "source": [
    "%matplotlib inline\n",
    "import matplotlib.pyplot as plt\n",
    "\n",
    "import gpflow\n",
    "import gpflowopt\n",
    "import numpy as np"
   ]
  },
  {
   "cell_type": "markdown",
   "metadata": {},
   "source": [
    "We setup the Veldhuizen and Lamont multiobjective optimization problem 2 (vlmop2). The objectives of vlmop2 are very easy to model. Ideal for illustrating Bayesian multiobjective optimization."
   ]
  },
  {
   "cell_type": "code",
   "execution_count": 2,
   "metadata": {},
   "outputs": [
    {
     "data": {
      "image/png": "[encoded data removed]",
      "text/plain": [
       "<Figure size 1080x360 with 2 Axes>"
      ]
     },
     "metadata": {},
     "output_type": "display_data"
    }
   ],
   "source": [
    "# Objective\n",
    "def vlmop2(x):\n",
    "    transl = 1 / np.sqrt(2)\n",
    "    part1 = (x[:, [0]] - transl) ** 2 + (x[:, [1]] - transl) ** 2\n",
    "    part2 = (x[:, [0]] + transl) ** 2 + (x[:, [1]] + transl) ** 2\n",
    "    y1 = 1 - np.exp(-1 * part1)\n",
    "    y2 = 1 - np.exp(-1 * part2)\n",
    "    return np.hstack((y1, y2))\n",
    "\n",
    "# Setup input domain\n",
    "domain = gpflowopt.domain.ContinuousParameter('x1', -2, 2) + \\\n",
    "         gpflowopt.domain.ContinuousParameter('x2', -2, 2)\n",
    "\n",
    "# Plot\n",
    "def plotfx():  \n",
    "    X = gpflowopt.design.FactorialDesign(101, domain).generate()\n",
    "    Z = vlmop2(X)\n",
    "    shape = (101, 101)\n",
    "    \n",
    "    axes = []\n",
    "    plt.figure(figsize=(15, 5))\n",
    "    for i in range(Z.shape[1]):\n",
    "        axes = axes + [plt.subplot2grid((1, 2), (0, i))]\n",
    "\n",
    "        axes[-1].contourf(X[:,0].reshape(shape), X[:,1].reshape(shape), Z[:,i].reshape(shape))\n",
    "        axes[-1].set_title('Objective {}'.format(i+1))\n",
    "        axes[-1].set_xlabel('x1')\n",
    "        axes[-1].set_ylabel('x2')\n",
    "        axes[-1].set_xlim([domain.lower[0], domain.upper[0]])\n",
    "        axes[-1].set_ylim([domain.lower[1], domain.upper[1]])\n",
    "    \n",
    "    return axes\n",
    "\n",
    "plotfx();"
   ]
  },
  {
   "cell_type": "markdown",
   "metadata": {},
   "source": [
    "## Multiobjective acquisition function\n",
    "\n",
    "We can model the belief of each objective by one GP prior or model each objective separately using a GP prior. We illustrate the latter approach here. A set of data points arranged in a Latin Hypercube is evaluated on the vlmop2 function.\n",
    "\n",
    "In multiobjective optimization the definition of improvement is ambigious. Here we define improvement using the contributing hypervolume which will determine the focus on density and uniformity of the Pareto set during sampling. For instance, due to the nature of the contributing hypervolume steep slopes in the Pareto front will be sampled less densely. The hypervolume-based probability of improvement is based on the model(s) of the objective functions (vlmop2) and aggregates all the information in one cost function which is a balance between:\n",
    "\n",
    "- improving our belief of the objectives (high uncertainty)\n",
    "- favoring points improving the Pareto set (large contributing hypervolume with a likely higher uncertainty)\n",
    "- focussing on augmenting the Pareto set (small contributing hypervolume but with low uncertainty). "
   ]
  },
  {
   "cell_type": "code",
   "execution_count": 3,
   "metadata": {},
   "outputs": [],
   "source": [
    "# Initial evaluations\n",
    "design = gpflowopt.design.LatinHyperCube(11, domain)\n",
    "X = design.generate()\n",
    "Y = vlmop2(X)\n",
    "\n",
    "# One model for each objective\n",
    "objective_models = [gpflow.gpr.GPR(X.copy(), Y[:,[i]].copy(), gpflow.kernels.Matern52(2, ARD=True)) for i in range(Y.shape[1])]\n",
    "for model in objective_models:\n",
    "    model.likelihood.variance = 0.01\n",
    "\n",
    "hvpoi = gpflowopt.acquisition.HVProbabilityOfImprovement(objective_models)"
   ]
  },
  {
   "cell_type": "markdown",
   "metadata": {},
   "source": [
    "## Running the Bayesian optimizer\n",
    "\n",
    "The optimization surface of multiobjective acquisition functions can be even more challenging than, e.g., standard expected improvement. Hence, a hybrid optimization scheme is preferred: a Monte Carlo optimization step first, then optimize the point with the best value.\n",
    "\n",
    "We then run the Bayesian Optimization and allow it to select up to 20 additional decisions. "
   ]
  },
  {
   "cell_type": "code",
   "execution_count": 4,
   "metadata": {
    "scrolled": false
   },
   "outputs": [
    {
     "name": "stdout",
     "output_type": "stream",
     "text": [
      "WARNING:tensorflow:From c:\\users\\icouckuy\\documents\\projecten\\gpflowopt\\gpflowopt\\acquisition\\hvpoi.py:124: calling reduce_sum (from tensorflow.python.ops.math_ops) with keep_dims is deprecated and will be removed in a future version.\n",
      "Instructions for updating:\n",
      "keep_dims is deprecated, use keepdims instead\n",
      "iter #  0 - MLL [-16.1, -15.6] - fmin [0.385, 0.0171] (size 5)\n",
      "iter #  1 - MLL [-17.1, -15.7] - fmin [0.385, 0.0171] (size 4)\n",
      "iter #  2 - MLL [-17.2, -15.6] - fmin [0.385, 0.0171] (size 5)\n",
      "iter #  3 - MLL [-16.9, -15.4] - fmin [0.104, 0.0171] (size 5)\n",
      "iter #  4 - MLL [-15.6, -14.2] - fmin [0.104, 0.0171] (size 6)\n",
      "iter #  5 - MLL [-12.8, -12.9] - fmin [0.0173, 0.0171] (size 7)\n",
      "iter #  6 - MLL [-10.4, -11.6] - fmin [0.0173, 0.0171] (size 8)\n",
      "iter #  7 - MLL [-9.08, -8.63] - fmin [0.0173, 0.0171] (size 9)\n",
      "iter #  8 - MLL [-6.04, -5.29] - fmin [0.0173, 0.0171] (size 10)\n",
      "iter #  9 - MLL [-3.42, -2.42] - fmin [0.0173, 0.0171] (size 11)\n",
      "iter # 10 - MLL [0.634, 1.23] - fmin [0.0173, 0.0171] (size 12)\n",
      "iter # 11 - MLL [3.85, 5.12] - fmin [0.0173, 0.0171] (size 13)\n",
      "iter # 12 - MLL [6.22, 9.49] - fmin [0.0173, 0.0075] (size 13)\n",
      "iter # 13 - MLL [9.52, 13.4] - fmin [0.0173, 0.0075] (size 14)\n",
      "iter # 14 - MLL [13.1, 18.1] - fmin [0.0173, 0.0075] (size 15)\n",
      "iter # 15 - MLL [16.8, 22.0] - fmin [0.0173, 0.0075] (size 16)\n",
      "iter # 16 - MLL [20.5, 26.1] - fmin [0.0173, 0.0075] (size 17)\n",
      "iter # 17 - MLL [25.5, 29.4] - fmin [0.000251, 0.0075] (size 18)\n",
      "iter # 18 - MLL [30.7, 33.5] - fmin [0.000251, 0.0075] (size 19)\n",
      "iter # 19 - MLL [35.4, 38.3] - fmin [0.000251, 0.0075] (size 20)\n",
      " constraints: array([], shape=(20, 0), dtype=float64)\n",
      "         fun: array([[8.76019513e-01, 2.95088501e-01],\n",
      "       [6.18804120e-01, 6.49890805e-01],\n",
      "       [4.18727630e-01, 7.97346364e-01],\n",
      "       [1.03929952e-01, 9.38953409e-01],\n",
      "       [7.80270729e-01, 4.47691202e-01],\n",
      "       [1.72680317e-02, 9.69541151e-01],\n",
      "       [2.37219162e-01, 8.95331698e-01],\n",
      "       [9.22995807e-01, 1.49785271e-01],\n",
      "       [5.06696960e-01, 7.43243621e-01],\n",
      "       [6.92444402e-01, 5.68593315e-01],\n",
      "       [3.15497625e-01, 8.53859475e-01],\n",
      "       [8.36671433e-01, 3.53351848e-01],\n",
      "       [9.78800658e-01, 7.50373941e-03],\n",
      "       [7.46198817e-01, 5.04272230e-01],\n",
      "       [9.44585237e-01, 8.72091101e-02],\n",
      "       [5.45778434e-01, 7.10310655e-01],\n",
      "       [8.83126953e-01, 2.48920466e-01],\n",
      "       [2.50661555e-04, 9.81376183e-01],\n",
      "       [1.78561229e-01, 9.12201485e-01],\n",
      "       [6.54328288e-01, 6.09221800e-01]])\n",
      "     message: 'OK'\n",
      "        nfev: 20\n",
      "     success: True\n",
      "           x: array([[-0.18500334, -0.42945409],\n",
      "       [ 0.07215097, -0.0420748 ],\n",
      "       [ 0.1856047 ,  0.18694199],\n",
      "       [ 0.50560643,  0.44417276],\n",
      "       [-0.18945651, -0.13641757],\n",
      "       [ 0.62198831,  0.60624197],\n",
      "       [ 0.25806047,  0.44415823],\n",
      "       [-0.46055195, -0.38855214],\n",
      "       [ 0.17235267,  0.05851627],\n",
      "       [-0.09686607, -0.02277475],\n",
      "       [ 0.24052228,  0.3054078 ],\n",
      "       [-0.29630595, -0.19019709],\n",
      "       [-0.73494906, -0.62490677],\n",
      "       [-0.0533329 , -0.18336251],\n",
      "       [-0.52263076, -0.46790591],\n",
      "       [ 0.05291566,  0.10610416],\n",
      "       [-0.33700177, -0.32075719],\n",
      "       [ 0.69332471,  0.71490084],\n",
      "       [ 0.36196052,  0.42858939],\n",
      "       [-0.02203825, -0.02132529]])\n",
      "[[2.52652535e-04 9.81379457e-01]\n",
      " [1.72742593e-02 9.69536115e-01]\n",
      " [1.03922043e-01 9.38960356e-01]\n",
      " [1.78575115e-01 9.12193438e-01]\n",
      " [2.37205200e-01 8.95338579e-01]\n",
      " [3.15507528e-01 8.53853294e-01]\n",
      " [4.18722475e-01 7.97352438e-01]\n",
      " [5.06692411e-01 7.43241571e-01]\n",
      " [5.45781765e-01 7.10308458e-01]\n",
      " [6.18806827e-01 6.49893408e-01]\n",
      " [6.92443661e-01 5.68586537e-01]\n",
      " [7.46198193e-01 5.04265827e-01]\n",
      " [7.80263435e-01 4.47719401e-01]\n",
      " [8.36683447e-01 3.53311767e-01]\n",
      " [8.76024836e-01 2.95069786e-01]\n",
      " [8.83110550e-01 2.48989866e-01]\n",
      " [9.23006049e-01 1.49705150e-01]\n",
      " [9.44580266e-01 8.72705698e-02]\n",
      " [9.78801698e-01 7.49811797e-03]]\n"
     ]
    }
   ],
   "source": [
    "# First setup the optimization strategy for the acquisition function\n",
    "# Combining MC step followed by L-BFGS-B\n",
    "acquisition_opt = gpflowopt.optim.StagedOptimizer([gpflowopt.optim.MCOptimizer(domain, 1000), \n",
    "                                                   gpflowopt.optim.SciPyOptimizer(domain)])\n",
    "\n",
    "# Then run the BayesianOptimizer for 20 iterations\n",
    "optimizer = gpflowopt.BayesianOptimizer(domain, hvpoi, optimizer=acquisition_opt, verbose=True)\n",
    "result = optimizer.optimize([vlmop2], n_iter=20)\n",
    "\n",
    "print(result)\n",
    "print(optimizer.acquisition.pareto.front.value)"
   ]
  },
  {
   "cell_type": "markdown",
   "metadata": {},
   "source": [
    "For multiple objectives the returned `OptimizeResult` object contains the identified Pareto set instead of just a single optimum. Note that this is computed on the raw data Y.\n",
    "\n",
    "The hypervolume-based probability of improvement operates on the Pareto set derived from the model predictions of the training data (to handle noise). This latter Pareto set can be found as `optimizer.acquisition.pareto.front.value`.\n",
    "\n",
    "## Plotting the results\n",
    "\n",
    "Lets plot the belief of the final models and acquisition function."
   ]
  },
  {
   "cell_type": "code",
   "execution_count": 5,
   "metadata": {
    "scrolled": false
   },
   "outputs": [
    {
     "name": "stdout",
     "output_type": "stream",
     "text": [
      "name.kern.\u001b[1mlengthscales\u001b[0m transform:+ve prior:None\n",
      "[0.5838501  0.59262748]\n",
      "name.kern.\u001b[1mvariance\u001b[0m transform:+ve prior:None\n",
      "[3.88573726]\n",
      "name.likelihood.\u001b[1mvariance\u001b[0m transform:+ve prior:None\n",
      "[1.00000005e-06]\n",
      "\n",
      "name.kern.\u001b[1mlengthscales\u001b[0m transform:+ve prior:None\n",
      "[0.60790817 0.58374295]\n",
      "name.kern.\u001b[1mvariance\u001b[0m transform:+ve prior:None\n",
      "[3.34354369]\n",
      "name.likelihood.\u001b[1mvariance\u001b[0m transform:+ve prior:None\n",
      "[1.00000004e-06]\n",
      "\n"
     ]
    },
    {
     "data": {
      "image/png": "[encoded data removed]",
      "text/plain": [
       "<Figure size 504x504 with 3 Axes>"
      ]
     },
     "metadata": {},
     "output_type": "display_data"
    }
   ],
   "source": [
    "def plot():\n",
    "    grid_size = 51  # 101\n",
    "    shape = (grid_size, grid_size)\n",
    "    \n",
    "    Xeval = gpflowopt.design.FactorialDesign(grid_size, domain).generate()\n",
    "    \n",
    "    Yeval_1, _ = hvpoi.models[0].predict_f(Xeval)\n",
    "    Yeval_2, _ = hvpoi.models[1].predict_f(Xeval)\n",
    "            \n",
    "    Yevalc = hvpoi.evaluate(Xeval)\n",
    "    \n",
    "    plots = [((0,0), 1, 1, 'Objective 1 model', Yeval_1[:,0]),\n",
    "             ((0,1), 1, 1, 'Objective 2 model', Yeval_2[:,0]),\n",
    "             ((1,0), 2, 2, 'hypervolume-based PoI', Yevalc)]\n",
    "\n",
    "    plt.figure(figsize=(7,7))\n",
    "    for i, (plot_pos, plot_rowspan, plot_colspan, plot_title, plot_data) in enumerate(plots):\n",
    "        data = hvpoi.data[0]\n",
    "            \n",
    "        ax = plt.subplot2grid((3, 2), plot_pos, rowspan=plot_rowspan, colspan=plot_colspan)\n",
    "        ax.contourf(Xeval[:,0].reshape(shape), Xeval[:,1].reshape(shape), plot_data.reshape(shape))\n",
    "        ax.scatter(data[:,0], data[:,1], c='w')\n",
    "        ax.set_title(plot_title)\n",
    "        ax.set_xlabel('x1')\n",
    "        ax.set_ylabel('x2')\n",
    "        ax.set_xlim([domain.lower[0], domain.upper[0]])\n",
    "        ax.set_ylim([domain.lower[1], domain.upper[1]])\n",
    "    plt.tight_layout()\n",
    "    \n",
    "# Plot representing the model belief, and the belief mapped to EI and PoF\n",
    "plot()\n",
    "\n",
    "for model in objective_models:\n",
    "    print(model)"
   ]
  },
  {
   "cell_type": "markdown",
   "metadata": {},
   "source": [
    "Finally, we can extract and plot the Pareto front ourselves using the `pareto.non_dominated_sort` function on the final data matrix Y.\n",
    "\n",
    "The non-dominated sort returns the Pareto set (non-dominated solutions) as well as a dominance vector holding the number of dominated points for each point in Y. For example, we could only select the points with dom == 2, or dom == 0 (the latter retrieves the non-dominated solutions). Here we choose to use the dominance vector to color the points."
   ]
  },
  {
   "cell_type": "code",
   "execution_count": 6,
   "metadata": {
    "scrolled": false
   },
   "outputs": [
    {
     "name": "stdout",
     "output_type": "stream",
     "text": [
      "R: [1.5 1.5]\n",
      "WARNING:tensorflow:From c:\\users\\icouckuy\\documents\\projecten\\gpflowopt\\gpflowopt\\pareto.py:264: calling reduce_min (from tensorflow.python.ops.math_ops) with keep_dims is deprecated and will be removed in a future version.\n",
      "Instructions for updating:\n",
      "keep_dims is deprecated, use keepdims instead\n",
      "Hypervolume indicator: 1.5606701453857534\n"
     ]
    },
    {
     "data": {
      "text/plain": [
       "Text(0,0.5,'Objective 2')"
      ]
     },
     "execution_count": 6,
     "metadata": {},
     "output_type": "execute_result"
    },
    {
     "data": {
      "text/plain": [
       "<Figure size 648x288 with 0 Axes>"
      ]
     },
     "metadata": {},
     "output_type": "display_data"
    },
    {
     "data": {
      "image/png": "[encoded data removed]",
      "text/plain": [
       "<Figure size 504x504 with 1 Axes>"
      ]
     },
     "metadata": {},
     "output_type": "display_data"
    }
   ],
   "source": [
    "# plot pareto front\n",
    "plt.figure(figsize=(9, 4))\n",
    "\n",
    "R = np.array([1.5, 1.5])\n",
    "print('R:', R)\n",
    "hv = hvpoi.pareto.hypervolume(R)\n",
    "print('Hypervolume indicator:', hv)\n",
    "\n",
    "plt.figure(figsize=(7, 7))\n",
    "\n",
    "pf, dom = gpflowopt.pareto.non_dominated_sort(hvpoi.data[1])\n",
    "\n",
    "plt.scatter(hvpoi.data[1][:,0], hvpoi.data[1][:,1], c=dom)\n",
    "plt.title('Pareto set')\n",
    "plt.xlabel('Objective 1')\n",
    "plt.ylabel('Objective 2')"
   ]
  }
 ],
 "metadata": {
  "kernelspec": {
   "display_name": "Python 3",
   "language": "python",
   "name": "python3"
  },
  "language_info": {
   "codemirror_mode": {
    "name": "ipython",
    "version": 3
   },
   "file_extension": ".py",
   "mimetype": "text/x-python",
   "name": "python",
   "nbconvert_exporter": "python",
   "pygments_lexer": "ipython3",
   "version": "3.6.6"
  }
 },
 "nbformat": 4,
 "nbformat_minor": 1
}
